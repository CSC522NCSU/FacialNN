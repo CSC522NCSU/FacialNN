{
 "cells": [
  {
   "cell_type": "markdown",
   "id": "cbfa1e55",
   "metadata": {},
   "source": [
    "Generates All the Stats for all the models:"
   ]
  },
  {
   "cell_type": "code",
   "execution_count": 2,
   "id": "7d349750-5d5d-4574-a940-c730459694bf",
   "metadata": {},
   "outputs": [],
   "source": [
    "import matplotlib.pyplot as plt\n",
    "import seaborn as sns\n",
    "classes = ['angry', 'disgust', 'fear', 'happy', 'neutral', 'sad', 'surprise']\n",
    "\n",
    "#  Confusion matrices for different models\n",
    "mlp_cmatrix = [[255, 3, 89, 201, 140, 199, 71], [39, 3, 12, 18, 10, 22, 7], [135, 0, 164, 188, 167, 227, 143], [135, 0, 62, 1130, 185, 177, 85], [107, 1, 88, 236, 489, 208, 104], [168, 0, 90, 253, 257, 401, 78], [46, 0, 86, 97, 69, 53, 480]]\n",
    "rnn_cmatrix = [[81, 0, 78, 294, 192, 225, 88], [6, 1, 9, 32, 31, 25, 7], [66, 1, 146, 256, 202, 221, 132], [43, 0, 80, 1204, 160, 217, 70], [41, 1, 65, 297, 515, 261, 53], [55, 0, 89, 302, 293, 447, 61], [29, 1, 72, 124, 64, 78, 463]]\n",
    "cnn_cmatrix = [[480, 17, 140, 72, 92, 144, 33], [17, 63, 11, 4, 3, 11, 2], [119, 10, 454, 75, 85, 182, 99], [103, 3, 113, 1298, 104, 103, 50], [147, 10, 165, 128, 527, 219, 37], [161, 12, 193, 111, 168, 569, 33], [29, 3, 92, 44, 30, 30, 603]]\n",
    "resnet_cmatrix = [[598, 13, 84, 37, 84, 122, 20], [25, 71, 4, 4, 1, 5, 1], [124, 6, 512, 26, 109, 162, 85], [30, 1, 20, 1570, 87, 32, 34], [81, 0, 64, 81, 796, 184, 27], [121, 5, 156, 58, 194, 692, 21], [15, 0, 59, 36, 15, 12, 694]]\n",
    "\n",
    "llm_cmatrix = [[1, 0, 1, 0, 2, 0, 1],\n",
    "               [3, 2, 0, 0, 0, 0, 0],\n",
    "               [0, 1, 2, 0, 0, 1, 1],\n",
    "               [0, 0, 0, 3, 1, 0, 1],\n",
    "               [0, 0, 0, 1, 3, 1, 0],\n",
    "               [0, 0, 0, 0, 1, 4, 0],\n",
    "               [0, 0, 1, 0, 0, 0, 4]]\n",
    "\n",
    "# plt.figure(figsize=(10, 8))\n",
    "# sns.heatmap(mlp_cmatrix, annot=True, fmt='d', cmap='Blues', \n",
    "#             xticklabels=classes, \n",
    "#             yticklabels=classes)\n",
    "# plt.xlabel('Predicted')\n",
    "# plt.ylabel('True')\n",
    "# plt.title('Confusion Matrix')\n",
    "# plt.tight_layout()\n",
    "# plt.savefig('mlp_confusion_matrix.png')\n",
    "# plt.show()\n",
    "\n",
    "    "
   ]
  },
  {
   "cell_type": "code",
   "execution_count": null,
   "id": "e82686ed-e252-47d5-8888-d3dac026f8bd",
   "metadata": {},
   "outputs": [],
   "source": [
    "plt.figure(figsize=(10, 8))\n",
    "sns.heatmap(llm_cmatrix, annot=True, fmt='d', cmap='Blues', \n",
    "            xticklabels=classes, \n",
    "            yticklabels=classes)\n",
    "plt.xlabel('Predicted')\n",
    "plt.ylabel('True')\n",
    "plt.title('Confusion Matrix')\n",
    "plt.tight_layout()\n",
    "plt.savefig('llm_confusion_matrix.png')\n",
    "plt.show()"
   ]
  },
  {
   "cell_type": "code",
   "execution_count": 3,
   "id": "afa16109-9320-4135-bd06-b21be4c0dba2",
   "metadata": {},
   "outputs": [],
   "source": [
    "#  Precision metric calculation\n",
    "def precision(cmatrix, labels):\n",
    "    stats = {}\n",
    "    for lab in range(len(labels)):\n",
    "        c_tp = cmatrix[lab][lab]\n",
    "        fp = 0\n",
    "        for cf in range(len(labels)):\n",
    "            if cf == lab:\n",
    "                continue\n",
    "            fp += cmatrix[cf][lab]\n",
    "        stats[labels[lab]] = (c_tp) / (c_tp + fp)\n",
    "    return stats"
   ]
  },
  {
   "cell_type": "code",
   "execution_count": 4,
   "id": "af3e95f7-643d-41ef-929f-430d8a39425a",
   "metadata": {},
   "outputs": [],
   "source": [
    "# rnn_precision = precision(rnn_cmatrix, classes)\n",
    "cnn_precision = precision(cnn_cmatrix, classes)"
   ]
  },
  {
   "cell_type": "code",
   "execution_count": 5,
   "id": "d5e9820a-1e7b-456a-865c-8bc6664d33c1",
   "metadata": {},
   "outputs": [],
   "source": [
    "# mlp_precision = precision(mlp_cmatrix, classes)\n",
    "resnet_precision= precision(resnet_cmatrix, classes)"
   ]
  },
  {
   "cell_type": "code",
   "execution_count": 6,
   "id": "e78c04ab-faa4-4feb-91b1-d07244808701",
   "metadata": {},
   "outputs": [],
   "source": [
    "#  Recall metric calculation\n",
    "def recall(cmatrix, labels):\n",
    "    stats = {}\n",
    "    for lab in range(len(labels)):\n",
    "        c_tp = cmatrix[lab][lab]\n",
    "        fn = 0\n",
    "        for cf in range(len(labels)):\n",
    "            if cf == lab:\n",
    "                continue\n",
    "            fn += cmatrix[lab][cf]\n",
    "        stats[labels[lab]] = (c_tp) / (c_tp + fn)\n",
    "    return stats"
   ]
  },
  {
   "cell_type": "code",
   "execution_count": 7,
   "id": "02961785-0da0-4425-9976-27fd244297a5",
   "metadata": {},
   "outputs": [],
   "source": [
    "# rnn_recall = recall(rnn_cmatrix, classes)\n",
    "cnn_recall = recall(cnn_cmatrix, classes)"
   ]
  },
  {
   "cell_type": "code",
   "execution_count": 8,
   "id": "57c8df3e-3cac-44c8-b330-c93eeb1fffd3",
   "metadata": {},
   "outputs": [],
   "source": [
    "# mlp_recall = recall(mlp_cmatrix, classes)\n",
    "resnet_recall = recall(resnet_cmatrix, classes)"
   ]
  },
  {
   "cell_type": "code",
   "execution_count": 9,
   "id": "8c5cd0ea-a5e4-4a9f-a835-2b1930ab8c17",
   "metadata": {},
   "outputs": [],
   "source": [
    "#  F1 score metric calculation\n",
    "def f1_score(cmatrix, labels):\n",
    "    f1_stats = {}\n",
    "    p_stats = precision(cmatrix, labels)\n",
    "    r_stats = recall(cmatrix, labels)\n",
    "\n",
    "    for label in labels:\n",
    "        f1_stats[label] = (p_stats[label] * r_stats[label]) / (p_stats[label] + r_stats[label]) \n",
    "    return f1_stats\n"
   ]
  },
  {
   "cell_type": "code",
   "execution_count": 14,
   "id": "49aae505-12c5-4c70-bf6b-9d678b1a6b10",
   "metadata": {},
   "outputs": [],
   "source": [
    "# rnn_f1 = f1_score(rnn_cmatrix, classes)\n",
    "cnn_f1 = f1_score(cnn_cmatrix, classes)"
   ]
  },
  {
   "cell_type": "code",
   "execution_count": 10,
   "id": "e5bbd615-f232-45b6-b3a2-476f31374d95",
   "metadata": {},
   "outputs": [],
   "source": [
    "# mlp_f1 = f1_score(mlp_cmatrix, classes)\n",
    "resnet_f1 = f1_score(resnet_cmatrix, classes)"
   ]
  },
  {
   "cell_type": "code",
   "execution_count": 11,
   "id": "70bd1b39-26d0-4cf8-8fe1-753dbb221ff5",
   "metadata": {},
   "outputs": [],
   "source": [
    "#  Accuracy metric calculation\n",
    "def accuracy(cmatrix, labels):\n",
    "    correct_predictions = 0\n",
    "    for c in range(len(labels)):\n",
    "        correct_predictions += cmatrix[c][c]\n",
    "    incorrect_predictions = 0\n",
    "    for i in range(len(labels)):\n",
    "        for j in range(len(labels)):\n",
    "            if i == j:\n",
    "                continue\n",
    "            incorrect_predictions += cmatrix[i][j]\n",
    "    return correct_predictions / (correct_predictions + incorrect_predictions)   "
   ]
  },
  {
   "cell_type": "code",
   "execution_count": 21,
   "id": "34814c19-15c5-41ae-ad6f-229f8b514576",
   "metadata": {},
   "outputs": [
    {
     "name": "stdout",
     "output_type": "stream",
     "text": [
      "RNN accuracy: 0.3980217330732795\n",
      "CNN accuracy: 0.5548763545429286\n",
      "0.5548763545429286\n"
     ]
    }
   ],
   "source": [
    "rnn_acc = accuracy(rnn_cmatrix, classes)\n",
    "cnn_acc = accuracy(cnn_cmatrix, classes)\n",
    "print(f\"RNN accuracy: {rnn_acc}\")\n",
    "print(f\"CNN accuracy: {cnn_acc}\")\n",
    "# print(cnn_acc)"
   ]
  },
  {
   "cell_type": "code",
   "execution_count": 22,
   "id": "6cde869d-46ae-4966-9ef1-2b1f8ec0b948",
   "metadata": {},
   "outputs": [
    {
     "name": "stdout",
     "output_type": "stream",
     "text": [
      "MLP accuracy: 0.40707718027305656\n",
      "ResNet accuracy: 0.6872387851769295\n"
     ]
    }
   ],
   "source": [
    "mlp_acc = accuracy(mlp_cmatrix, classes)\n",
    "resnet_acc = accuracy(resnet_cmatrix, classes)\n",
    "print(f\"MLP accuracy: {mlp_acc}\")\n",
    "print(f\"ResNet accuracy: {resnet_acc}\")"
   ]
  },
  {
   "cell_type": "code",
   "execution_count": 15,
   "id": "f05ac8d8-4eda-4c84-8c8b-2ddb295c5816",
   "metadata": {},
   "outputs": [
    {
     "data": {
      "image/png": "[encoded data removed]",
      "text/plain": [
       "<Figure size 640x480 with 1 Axes>"
      ]
     },
     "metadata": {},
     "output_type": "display_data"
    }
   ],
   "source": [
    "#  Plot metrics for CNN\n",
    "\n",
    "import numpy as np\n",
    "width = 0.2\n",
    "x = np.arange(len(classes))\n",
    "plt.bar(x - width, cnn_precision.values(), width, label='precision')\n",
    "plt.bar(x, cnn_recall.values(), width, label='recall')\n",
    "plt.bar(x + width, cnn_f1.values(), width, label='f1 score')\n",
    "plt.xlabel(\"Classes\")\n",
    "plt.xticks(x, classes)\n",
    "plt.legend()\n",
    "plt.title('Precision, Recall, and F1 Score for CNN')\n",
    "plt.savefig('best_cnn_metrics.png')\n",
    "plt.show()"
   ]
  },
  {
   "cell_type": "code",
   "execution_count": 16,
   "id": "bac792fd-3c05-42ba-b39e-6d0f797bde8e",
   "metadata": {},
   "outputs": [
    {
     "data": {
      "image/png": "[encoded data removed]",
      "text/plain": [
       "<Figure size 640x480 with 1 Axes>"
      ]
     },
     "metadata": {},
     "output_type": "display_data"
    }
   ],
   "source": [
    "#  Plot metrics for Resnet\n",
    "\n",
    "import numpy as np\n",
    "width = 0.2\n",
    "x = np.arange(len(classes))\n",
    "plt.bar(x - width, resnet_precision.values(), width, label='precision')\n",
    "plt.bar(x, resnet_recall.values(), width, label='recall')\n",
    "plt.bar(x + width, resnet_f1.values(), width, label='f1 score')\n",
    "plt.xlabel(\"Classes\")\n",
    "plt.xticks(x, classes)\n",
    "plt.legend()\n",
    "plt.title('Precision, Recall, and F1 Score for ResNet')\n",
    "plt.savefig('best_resnet_metrics.png')\n",
    "plt.show()"
   ]
  }
 ],
 "metadata": {
  "kernelspec": {
   "display_name": "Python 3 (ipykernel)",
   "language": "python",
   "name": "python3"
  },
  "language_info": {
   "codemirror_mode": {
    "name": "ipython",
    "version": 3
   },
   "file_extension": ".py",
   "mimetype": "text/x-python",
   "name": "python",
   "nbconvert_exporter": "python",
   "pygments_lexer": "ipython3",
   "version": "3.12.7"
  }
 },
 "nbformat": 4,
 "nbformat_minor": 5
}
